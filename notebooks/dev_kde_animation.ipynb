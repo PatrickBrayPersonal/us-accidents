{
 "cells": [
  {
   "cell_type": "code",
   "execution_count": null,
   "metadata": {},
   "outputs": [],
   "source": [
    "import os\n",
    "import dask.dataframe as dd\n",
    "from dotenv import find_dotenv, load_dotenv\n",
    "from pathlib import Path\n",
    "import pandas as pd\n",
    "import plotly\n",
    "import plotly.express as px\n",
    "load_dotenv(find_dotenv())\n",
    "project_dir = Path(os.getenv(\"WORKSPACE\"))\n"
   ]
  },
  {
   "cell_type": "code",
   "execution_count": null,
   "metadata": {},
   "outputs": [],
   "source": [
    "accs = dd.read_parquet(project_dir / \"data/processed\" / Path(os.getenv(\"PROC_NAME\")), parse_dates=[\"Start_Time\", \"End_Time\"])"
   ]
  },
  {
   "cell_type": "code",
   "execution_count": null,
   "metadata": {},
   "outputs": [],
   "source": [
    "fig = px.density_mapbox(accs.compute(), lat=\"Start_Lat\", lon=\"Start_Lng\", z=\"Severity\", radius=10,\n",
    "                        center=dict(lat=0, lon=180), zoom=0,\n",
    "                        mapbox_style=\"stamen-terrain\")\n",
    "fig.show()"
   ]
  },
  {
   "cell_type": "code",
   "execution_count": null,
   "metadata": {},
   "outputs": [],
   "source": [
    "pd.DataFrame(accs)"
   ]
  },
  {
   "cell_type": "code",
   "execution_count": null,
   "metadata": {},
   "outputs": [],
   "source": []
  }
 ],
 "metadata": {
  "kernelspec": {
   "display_name": "Python 3.10.8 ('env')",
   "language": "python",
   "name": "python3"
  },
  "language_info": {
   "codemirror_mode": {
    "name": "ipython",
    "version": 3
   },
   "file_extension": ".py",
   "mimetype": "text/x-python",
   "name": "python",
   "nbconvert_exporter": "python",
   "pygments_lexer": "ipython3",
   "version": "3.10.8"
  },
  "orig_nbformat": 4,
  "vscode": {
   "interpreter": {
    "hash": "679ecc6933c55f4bdbdb91f4b53bb6b6e58d2f25df0a4c06b73e4ec04c6bd7c1"
   }
  }
 },
 "nbformat": 4,
 "nbformat_minor": 2
}
